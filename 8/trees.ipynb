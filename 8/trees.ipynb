{
 "cells": [
  {
   "cell_type": "code",
   "execution_count": 4,
   "metadata": {},
   "outputs": [],
   "source": [
    "import numpy as np"
   ]
  },
  {
   "cell_type": "code",
   "execution_count": 7,
   "metadata": {},
   "outputs": [],
   "source": [
    "def read_data(file='sample.txt'):\n",
    "\n",
    "    arr=[]\n",
    "    with open(file) as f:\n",
    "        lines = f.readlines()\n",
    "\n",
    "        for line in lines:\n",
    "            \n",
    "            if line == '\\n':\n",
    "                break\n",
    "            else:\n",
    "                row=list(line.strip())\n",
    "                row=[int(x) for x in row]\n",
    "                arr.append(row)\n",
    "\n",
    "    return np.array(arr)"
   ]
  },
  {
   "cell_type": "code",
   "execution_count": 15,
   "metadata": {},
   "outputs": [
    {
     "data": {
      "text/plain": [
       "array([[3, 0, 3, 7, 3],\n",
       "       [2, 5, 5, 1, 2],\n",
       "       [6, 5, 3, 3, 2],\n",
       "       [3, 3, 5, 4, 9],\n",
       "       [3, 5, 3, 9, 0]])"
      ]
     },
     "execution_count": 15,
     "metadata": {},
     "output_type": "execute_result"
    }
   ],
   "source": [
    "arr=read_data()\n",
    "arr"
   ]
  },
  {
   "cell_type": "code",
   "execution_count": 59,
   "metadata": {},
   "outputs": [],
   "source": [
    "def checkVisibility(arr):\n",
    "\n",
    "    visible_count=0\n",
    "    l,w = arr.shape[0],arr.shape[1]\n",
    "    for i in range(1,l-1):\n",
    "        for j in range(1,w-1):\n",
    "            cell=arr[i][j]\n",
    "            lt,rt,bottom,top = arr[i,:j],arr[i,j+1:],arr[i+1:,j],arr[:i,j]\n",
    "            print(top,bottom,rt,lt)\n",
    "            if cell >max(top) or cell> max(bottom) or cell> max(rt) or cell> max(lt):\n",
    "                #print(i,j,cell,'visible')\n",
    "                visible_count+=1\n",
    "\n",
    "    return visible_count+arr.shape[0]*2+(arr.shape[1]-2)*2\n",
    "    "
   ]
  },
  {
   "cell_type": "code",
   "execution_count": 61,
   "metadata": {},
   "outputs": [
    {
     "name": "stdout",
     "output_type": "stream",
     "text": [
      "[0] [5 3 5] [5 1 2] [2]\n",
      "[3] [3 5 3] [1 2] [2 5]\n",
      "[7] [3 4 9] [2] [2 5 5]\n",
      "[0 5] [3 5] [3 3 2] [6]\n",
      "[3 5] [5 3] [3 2] [6 5]\n",
      "[7 1] [4 9] [2] [6 5 3]\n",
      "[0 5 5] [5] [5 4 9] [3]\n",
      "[3 5 3] [3] [4 9] [3 3]\n",
      "[7 1 3] [9] [9] [3 3 5]\n"
     ]
    },
    {
     "data": {
      "text/plain": [
       "21"
      ]
     },
     "execution_count": 61,
     "metadata": {},
     "output_type": "execute_result"
    }
   ],
   "source": [
    "arr=read_data()\n",
    "checkVisibility(arr)"
   ]
  },
  {
   "cell_type": "code",
   "execution_count": 46,
   "metadata": {},
   "outputs": [
    {
     "data": {
      "text/plain": [
       "array([[3, 0, 3, 7, 3],\n",
       "       [2, 5, 5, 1, 2],\n",
       "       [6, 5, 3, 3, 2],\n",
       "       [3, 3, 5, 4, 9],\n",
       "       [3, 5, 3, 9, 0]])"
      ]
     },
     "execution_count": 46,
     "metadata": {},
     "output_type": "execute_result"
    }
   ],
   "source": [
    "arr"
   ]
  },
  {
   "cell_type": "code",
   "execution_count": 47,
   "metadata": {},
   "outputs": [
    {
     "data": {
      "text/plain": [
       "16"
      ]
     },
     "execution_count": 47,
     "metadata": {},
     "output_type": "execute_result"
    }
   ],
   "source": [
    "arr.shape[0]*2+(arr.shape[1]-2)*2"
   ]
  },
  {
   "cell_type": "code",
   "execution_count": 50,
   "metadata": {},
   "outputs": [
    {
     "data": {
      "text/plain": [
       "(99, 99)"
      ]
     },
     "execution_count": 50,
     "metadata": {},
     "output_type": "execute_result"
    }
   ],
   "source": [
    "arr=read_data(file='data.txt')\n",
    "arr.shape"
   ]
  },
  {
   "cell_type": "code",
   "execution_count": 51,
   "metadata": {},
   "outputs": [
    {
     "data": {
      "text/plain": [
       "1533"
      ]
     },
     "execution_count": 51,
     "metadata": {},
     "output_type": "execute_result"
    }
   ],
   "source": [
    "checkVisibility(arr)"
   ]
  },
  {
   "cell_type": "markdown",
   "metadata": {},
   "source": [
    "### Get Viewing Distance"
   ]
  },
  {
   "cell_type": "code",
   "execution_count": 132,
   "metadata": {},
   "outputs": [],
   "source": [
    "def find_index(val,ls):\n",
    "    #print(val,ls)\n",
    "    if len(ls)==1: return 1\n",
    "    else:\n",
    "        for i,x in enumerate(ls):\n",
    "            if x>=val:\n",
    "                return i+1\n",
    "            \n",
    "        return i+1\n",
    "\n"
   ]
  },
  {
   "cell_type": "code",
   "execution_count": 133,
   "metadata": {},
   "outputs": [
    {
     "name": "stdout",
     "output_type": "stream",
     "text": [
      "3\n",
      "1\n",
      "2\n",
      "2\n",
      "1\n"
     ]
    }
   ],
   "source": [
    "print(find_index(5,[2,3,5,6,3,7]))\n",
    "print(find_index(5,[5,2]))\n",
    "print(find_index(5,[1,2]))\n",
    "print(find_index(5,[3,5,3]))\n",
    "print(find_index(5,[3]))\n",
    "\n",
    "# 5 [2 5]\n",
    "# 5 [1 2]\n",
    "# 5 [3 5 3]\n",
    "# 5 [3]"
   ]
  },
  {
   "cell_type": "code",
   "execution_count": 134,
   "metadata": {},
   "outputs": [],
   "source": [
    "def get_scenic_score(cell,lt,rt,bottom,top):\n",
    "\n",
    "    lt_dt,rt_dt,bottom_dt,top_dt=find_index(cell,lt[::-1]),find_index(cell,rt),find_index(cell,bottom),find_index(cell,top[::-1])\n",
    "\n",
    "    score=lt_dt*rt_dt*bottom_dt*top_dt\n",
    "    \n",
    "    return score\n",
    "    "
   ]
  },
  {
   "cell_type": "code",
   "execution_count": 135,
   "metadata": {},
   "outputs": [],
   "source": [
    "def get_neigbours(arr):\n",
    "\n",
    "    max_score=0\n",
    "    l,w = arr.shape[0],arr.shape[1]\n",
    "    for i in range(1,l-1):\n",
    "        for j in range(1,w-1):\n",
    "            cell=arr[i][j]\n",
    "            lt,rt,bottom,top = arr[i,:j],arr[i,j+1:],arr[i+1:,j],arr[:i,j]\n",
    "            #print(top,bottom,rt,lt)\n",
    "            score=get_scenic_score(cell,lt,rt,bottom,top)\n",
    "            #print(i,j,cell,score,'\\n')\n",
    "            if score>max_score:\n",
    "                max_score=score\n",
    "\n",
    "    return max_score"
   ]
  },
  {
   "cell_type": "code",
   "execution_count": 136,
   "metadata": {},
   "outputs": [
    {
     "data": {
      "text/plain": [
       "8"
      ]
     },
     "execution_count": 136,
     "metadata": {},
     "output_type": "execute_result"
    }
   ],
   "source": [
    "arr=read_data(file='sample.txt')\n",
    "get_neigbours(arr)\n"
   ]
  },
  {
   "cell_type": "code",
   "execution_count": 137,
   "metadata": {},
   "outputs": [
    {
     "data": {
      "text/plain": [
       "345744"
      ]
     },
     "execution_count": 137,
     "metadata": {},
     "output_type": "execute_result"
    }
   ],
   "source": [
    "arr=read_data(file='data.txt')\n",
    "get_neigbours(arr)"
   ]
  },
  {
   "cell_type": "code",
   "execution_count": null,
   "metadata": {},
   "outputs": [],
   "source": []
  }
 ],
 "metadata": {
  "kernelspec": {
   "display_name": "Python 3.9.12 ('base')",
   "language": "python",
   "name": "python3"
  },
  "language_info": {
   "codemirror_mode": {
    "name": "ipython",
    "version": 3
   },
   "file_extension": ".py",
   "mimetype": "text/x-python",
   "name": "python",
   "nbconvert_exporter": "python",
   "pygments_lexer": "ipython3",
   "version": "3.9.12"
  },
  "orig_nbformat": 4,
  "vscode": {
   "interpreter": {
    "hash": "e42634819b8c191a5d07eaf23810ff32516dd8d3875f28ec3e488928fbd3c187"
   }
  }
 },
 "nbformat": 4,
 "nbformat_minor": 2
}
