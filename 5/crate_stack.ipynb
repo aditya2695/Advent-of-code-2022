{
 "cells": [
  {
   "cell_type": "code",
   "execution_count": 30,
   "metadata": {},
   "outputs": [],
   "source": [
    "\n",
    "import re\n",
    "from itertools import zip_longest\n",
    "# np.warnings.filterwarnings('ignore', category=np.VisibleDeprecationWarning)\n"
   ]
  },
  {
   "cell_type": "code",
   "execution_count": 31,
   "metadata": {},
   "outputs": [],
   "source": [
    "class CrateStack:\n",
    "\n",
    "    def __init__(self) -> None:\n",
    "        self.stack_dict={}\n",
    "\n",
    "    def format_matrix(self,mat):\n",
    "        # l,w=mat[0].shape[0],mat[0].shape\n",
    "        # print(mat)\n",
    "        # mat=mat.reshape(l,w)\n",
    "        # print('reshaped:',mat)\n",
    "        \n",
    "\n",
    "        self.stack_count=len(mat[0])\n",
    "        for i in range(1,len(mat[0])+1):\n",
    "            \n",
    "            col=[row[i-1] for row in  mat]\n",
    "            \n",
    "            col=[cell for cell in col if cell!='']\n",
    "            \n",
    "            self.stack_dict[i]=col[::-1]\n",
    "        \n",
    "        return self.stack_dict\n",
    "\n",
    "    def move_crate(self,count,start,end):\n",
    "\n",
    "        for _ in range(count):\n",
    "            crate = self.stack_dict[start].pop()\n",
    "            \n",
    "            self.stack_dict[end].append(crate)\n",
    "\n",
    "    def move_crate_same_order(self,count,start,end):\n",
    "\n",
    "    \n",
    "        temp=[]\n",
    "        for _ in range(count):\n",
    "            crate = self.stack_dict[start].pop()\n",
    "\n",
    "            temp.append(crate)\n",
    "            \n",
    "        self.stack_dict[end]=self.stack_dict[end]+temp[::-1]\n",
    "\n",
    "    def get_top_elements(self):\n",
    "\n",
    "        output=''\n",
    "\n",
    "        for i in range(1,self.stack_count+1):\n",
    "            \n",
    "            output=output+self.stack_dict[i].pop()\n",
    "        \n",
    "        return output\n",
    "        \n",
    "        \n",
    "            \n"
   ]
  },
  {
   "cell_type": "code",
   "execution_count": 32,
   "metadata": {},
   "outputs": [],
   "source": [
    "def read_instructions(file='sample.txt'):\n",
    "    \n",
    "    matrix=[]\n",
    "\n",
    "    crate_stack=CrateStack()\n",
    "\n",
    "    with open(file) as f:\n",
    "        lines = f.readlines()\n",
    "\n",
    "        instruct=0\n",
    "        for line in lines:\n",
    "            \n",
    "            if line == '\\n':\n",
    "             \n",
    "                    \n",
    "                    crate_stack.format_matrix(matrix)\n",
    "                    instruct=1\n",
    "                    continue\n",
    "\n",
    "            else:\n",
    "                \n",
    "                if instruct==1:\n",
    "\n",
    "                    instruction=line.split(' ')\n",
    "                    count,start,end=int(instruction[1]),int(instruction[3]),int(instruction[5].strip())\n",
    "                    #move_crate(stack_dict,count,start,end)\n",
    "                    crate_stack.move_crate_same_order(count,start,end)\n",
    "                else:\n",
    "                    # print(any(chrr.isdigit() for chrr in line))\n",
    "                    if any(chrr.isdigit() for chrr in line) is False:\n",
    "                        row=[]\n",
    "                        \n",
    "                        line_list = line.split('  ')\n",
    "                        line_list=[x.strip() for x in line_list ]\n",
    "                        \n",
    "                        for char in line_list:\n",
    "    \n",
    "    \n",
    "\n",
    "                            if char=='':\n",
    "                                row.append(char)\n",
    "                            else:\n",
    "                                row_list=char.split(' ')\n",
    "                                \n",
    "                                for i in row_list:\n",
    "                                    charr = re.findall(r\"[a-zA-Z]+\",i)\n",
    "                                    if len(charr)!=0:\n",
    "\n",
    "                                        row.append(charr[0])\n",
    "                                \n",
    "                        if(row[-1] != ''):\n",
    "                            matrix.append(row)\n",
    "                        else:\n",
    "                            i=0\n",
    "                            new=[]\n",
    "                            while(i<len(row)-1):\n",
    "\n",
    "                                if(row[i]=='' and row[i+1]==''):\n",
    "                                    new.append(row[i])\n",
    "                                    i+=2\n",
    "                                else:   \n",
    "                                    new.append(row[i])\n",
    "                                    i+=1\n",
    "                            \n",
    "\n",
    "                            matrix.append(new)\n",
    "                    \n",
    "                    \n",
    "    return crate_stack.get_top_elements()            \n",
    "                \n",
    "     \n",
    "\n",
    "    "
   ]
  },
  {
   "cell_type": "code",
   "execution_count": 33,
   "metadata": {},
   "outputs": [
    {
     "data": {
      "text/plain": [
       "'MCD'"
      ]
     },
     "execution_count": 33,
     "metadata": {},
     "output_type": "execute_result"
    }
   ],
   "source": [
    "read_instructions()\n",
    "\n"
   ]
  },
  {
   "cell_type": "code",
   "execution_count": 34,
   "metadata": {},
   "outputs": [
    {
     "data": {
      "text/plain": [
       "'FGLQJCMBD'"
      ]
     },
     "execution_count": 34,
     "metadata": {},
     "output_type": "execute_result"
    }
   ],
   "source": [
    "read_instructions(file='data.txt')"
   ]
  },
  {
   "cell_type": "code",
   "execution_count": 35,
   "metadata": {},
   "outputs": [
    {
     "name": "stdout",
     "output_type": "stream",
     "text": [
      "['', '', '[D]', '', '']\n",
      "rowlist: ['[D]']\n",
      "reout: ['D']\n",
      "['[D]', '', ' [D] [G] [C] [Z] [H] [B] [G]']\n",
      "rowlist: ['[D]']\n",
      "reout: ['D']\n",
      "rowlist: ['', 'D]', 'G]', 'C]', 'Z]', 'H]', 'B]', 'G]']\n",
      "reout: []\n",
      "reout: ['D']\n",
      "reout: ['G']\n",
      "reout: ['C']\n",
      "reout: ['Z']\n",
      "reout: ['H']\n",
      "reout: ['B']\n",
      "reout: ['G']\n",
      "['[Z] [M] [P]']\n",
      "rowlist: ['[Z]', 'M]', 'P]']\n",
      "reout: ['Z']\n",
      "reout: ['M']\n",
      "reout: ['P']\n",
      "row: ['Z', 'M', 'P']\n",
      "['Z', 'M']\n"
     ]
    }
   ],
   "source": [
    "str='[D]     [D] [G] [C] [Z] [H] [B] [G]'\n",
    "\n",
    "\n",
    "\n",
    "def clean(str):\n",
    "    new = str.split('  ')\n",
    "\n",
    "    print(new)\n",
    "\n",
    "    row=[]\n",
    "    for char in new:\n",
    "        \n",
    "        \n",
    "\n",
    "        if char=='':\n",
    "            row.append(char)\n",
    "        else:\n",
    "            row_list=char.split(' [')\n",
    "            print('rowlist:',row_list)\n",
    "            for i in row_list:\n",
    "                charr = re.findall(r\"[a-zA-Z]+\",i)\n",
    "                print('reout:',charr)\n",
    "                if len(charr)!=0:\n",
    "\n",
    "                    row.append(charr[0])\n",
    "            \n",
    "    if('' not in row):\n",
    "        \n",
    "        i=0\n",
    "        new=[]\n",
    "        print('row:',row)\n",
    "        while(i<len(row)-1):\n",
    "\n",
    "            if(row[i]=='' and row[i+1]==''):\n",
    "                new.append(row[i])\n",
    "                i+=2\n",
    "            else:   \n",
    "                new.append(row[i])\n",
    "                i+=1\n",
    "                \n",
    "        print(new)\n",
    "        row.clear()\n",
    "\n",
    "clean(str='    [D]    ')\n",
    "clean(str='[D]     [D] [G] [C] [Z] [H] [B] [G]')\n",
    "clean(str='[Z] [M] [P]')\n"
   ]
  },
  {
   "cell_type": "code",
   "execution_count": null,
   "metadata": {},
   "outputs": [],
   "source": []
  }
 ],
 "metadata": {
  "kernelspec": {
   "display_name": "Python 3.9.12 ('base')",
   "language": "python",
   "name": "python3"
  },
  "language_info": {
   "codemirror_mode": {
    "name": "ipython",
    "version": 3
   },
   "file_extension": ".py",
   "mimetype": "text/x-python",
   "name": "python",
   "nbconvert_exporter": "python",
   "pygments_lexer": "ipython3",
   "version": "3.9.12"
  },
  "orig_nbformat": 4,
  "vscode": {
   "interpreter": {
    "hash": "e42634819b8c191a5d07eaf23810ff32516dd8d3875f28ec3e488928fbd3c187"
   }
  }
 },
 "nbformat": 4,
 "nbformat_minor": 2
}
