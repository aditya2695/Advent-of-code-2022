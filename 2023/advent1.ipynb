{
  "nbformat": 4,
  "nbformat_minor": 0,
  "metadata": {
    "colab": {
      "provenance": [],
      "authorship_tag": "ABX9TyPzqM8ZpEzSg8kpJ1gaXJJC",
      "include_colab_link": true
    },
    "kernelspec": {
      "name": "python3",
      "display_name": "Python 3"
    },
    "language_info": {
      "name": "python"
    }
  },
  "cells": [
    {
      "cell_type": "markdown",
      "metadata": {
        "id": "view-in-github",
        "colab_type": "text"
      },
      "source": [
        "<a href=\"https://colab.research.google.com/github/aditya2695/Advent-of-code-2022/blob/main/2023/advent1.ipynb\" target=\"_parent\"><img src=\"https://colab.research.google.com/assets/colab-badge.svg\" alt=\"Open In Colab\"/></a>"
      ]
    },
    {
      "cell_type": "code",
      "execution_count": null,
      "metadata": {
        "id": "StvKXwcCD_9w"
      },
      "outputs": [],
      "source": [
        "import pandas as pd\n",
        "import numpy as np"
      ]
    },
    {
      "cell_type": "code",
      "source": [
        "def task1(filename='/content/test.txt'):\n",
        "\n",
        "\n",
        "    line_count = 0\n",
        "    monkey_count = 0\n",
        "\n",
        "    # Assuming you have the remove_empty_lines_and_delete function defined earlier\n",
        "    # remove_empty_lines_and_delete(file=file)\n",
        "\n",
        "    sum=0\n",
        "\n",
        "\n",
        "    with open(filename) as f:\n",
        "        lines = f.readlines()\n",
        "\n",
        "        while line_count < len(lines):\n",
        "            line = lines[line_count]\n",
        "\n",
        "            str_rep = line.strip()\n",
        "            str_list=[]\n",
        "            for char in str_rep:\n",
        "              if char.isdigit():\n",
        "                str_list.append(char)\n",
        "\n",
        "            # print(str_list)\n",
        "\n",
        "            if len(str_list)>1:\n",
        "              row_val = int(str_list[0]+str_list[-1])\n",
        "            else:\n",
        "              row_val=0\n",
        "            # print(row_val)\n",
        "            sum=sum+row_val\n",
        "\n",
        "\n",
        "            line_count+=1\n",
        "\n",
        "    return sum\n",
        "\n",
        "\n",
        "task1(filename='/content/puzzle.txt')"
      ],
      "metadata": {
        "id": "ernAEGtIEGmk",
        "colab": {
          "base_uri": "https://localhost:8080/"
        },
        "outputId": "c699a112-826a-42d0-e94a-881cfad64cb2"
      },
      "execution_count": null,
      "outputs": [
        {
          "output_type": "execute_result",
          "data": {
            "text/plain": [
              "37549"
            ]
          },
          "metadata": {},
          "execution_count": 2
        }
      ]
    },
    {
      "cell_type": "code",
      "source": [
        "def start_end_nums(str_rep):\n",
        "\n",
        "  numbers = {'one': '1', 'two': '2', 'three': '3', 'four': '4', 'five': '5', 'six': '6', 'seven': '7', 'eight': '8', 'nine': '9'}\n",
        "\n",
        "  text_rep_list = []\n",
        "  index_list = []\n",
        "  for i in range(len(str_rep)):\n",
        "    #print('\\n')\n",
        "    for j in range(3,6):\n",
        "      if len(str_rep)-i>=j:\n",
        "        txt = str_rep[i:i+j]\n",
        "        #print(j,txt)\n",
        "        if txt in numbers.keys():\n",
        "          text_rep_list.append(numbers[txt])\n",
        "          index_list.append(i)\n",
        "\n",
        "  text_rep_list,index_list\n",
        "\n",
        "  if len(text_rep_list)>1:\n",
        "\n",
        "    str_dict={'start':text_rep_list[0],'end':text_rep_list[-1]}\n",
        "    pos_dict ={'start':index_list[0],'end':index_list[-1]}\n",
        "\n",
        "  elif len(text_rep_list)==1:\n",
        "\n",
        "    str_dict={'start':text_rep_list[0],'end':text_rep_list[0]}\n",
        "    pos_dict ={'start':index_list[0],'end':index_list[0]}\n",
        "\n",
        "  else:\n",
        "    str_dict={'start': '', 'end': ''}\n",
        "    pos_dict ={'start':0,'end':0}\n",
        "\n",
        "  return str_dict,pos_dict\n",
        "\n",
        "start_end_nums('256one54one')"
      ],
      "metadata": {
        "colab": {
          "base_uri": "https://localhost:8080/"
        },
        "id": "q-gsS3MVXQtD",
        "outputId": "94b1cca1-a9da-42f1-fae4-06843e9f71f4"
      },
      "execution_count": null,
      "outputs": [
        {
          "output_type": "execute_result",
          "data": {
            "text/plain": [
              "({'start': '1', 'end': '1'}, {'start': 3, 'end': 8})"
            ]
          },
          "metadata": {},
          "execution_count": 3
        }
      ]
    },
    {
      "cell_type": "code",
      "source": [
        "import pandas as pd"
      ],
      "metadata": {
        "id": "RLkJyIXomynR"
      },
      "execution_count": null,
      "outputs": []
    },
    {
      "cell_type": "code",
      "source": [
        "\n",
        "\n",
        "def task2(savefile,filename='/content/task2_test.txt'):\n",
        "\n",
        "\n",
        "    line_count = 0\n",
        "    monkey_count = 0\n",
        "\n",
        "    # Assuming you have the remove_empty_lines_and_delete function defined earlier\n",
        "    # remove_empty_lines_and_delete(file=file)\n",
        "\n",
        "    sum=0\n",
        "\n",
        "    numbers={'one':1,'two':2,'three':3,'four':4}\n",
        "    numbers['five'] = 5\n",
        "    numbers['six'] = 6\n",
        "    numbers['seven'] = 7\n",
        "    numbers['eight'] = 8\n",
        "    numbers['nine'] = 9\n",
        "\n",
        "    df = pd.DataFrame(columns=['Text','Row_Value'])\n",
        "    with open(filename) as f:\n",
        "        lines = f.readlines()\n",
        "\n",
        "        while line_count < len(lines):\n",
        "            line = lines[line_count]\n",
        "            str_rep = line.strip()\n",
        "            str_list = []\n",
        "            str_dict,pos_dict=start_end_nums(str_rep)\n",
        "\n",
        "            #print(str_dict,pos_dict,len(str_rep))\n",
        "            if str_dict=={'start': '', 'end': ''}:\n",
        "              str_list=[]\n",
        "              for char in str_rep:\n",
        "                if char.isdigit():\n",
        "                  str_list.append(char)\n",
        "              # print(str_list)\n",
        "              if len(str_list)>1:\n",
        "                row_sum = int(str_list[0]+str_list[-1])\n",
        "              elif len(str_list)==1:\n",
        "                row_sum = int(str_list[0]+str_list[0])\n",
        "              else:\n",
        "                row_sum=0\n",
        "            else:\n",
        "              for pos,char in enumerate(str_rep):\n",
        "                if char.isdigit() and pos<pos_dict['start']:\n",
        "                  pos_dict['start']=pos\n",
        "                  str_dict['start']=char\n",
        "\n",
        "                if char.isdigit() and pos>pos_dict['end']:\n",
        "                  pos_dict['end']=pos\n",
        "                  str_dict['end']=char\n",
        "\n",
        "              row_sum = str(str_dict['start'])+str(str_dict['end'])\n",
        "            df.loc[line_count+1]=[str_rep,int(row_sum)]\n",
        "\n",
        "            #print(row_sum,str_dict)\n",
        "            sum=sum+int(row_sum)\n",
        "            line_count+=1\n",
        "        df.loc[line_count+1]=['Sum',sum]\n",
        "    df.to_csv(savefile,index=False)\n",
        "\n",
        "\n",
        "    return sum\n",
        "\n"
      ],
      "metadata": {
        "id": "RjF8gMQiFrYn"
      },
      "execution_count": null,
      "outputs": []
    },
    {
      "cell_type": "code",
      "source": [
        "task2(filename='/content/task2_test.txt',savefile='/content/test_output.csv')"
      ],
      "metadata": {
        "colab": {
          "base_uri": "https://localhost:8080/"
        },
        "id": "HIJAPSTkpNK_",
        "outputId": "253d5e36-be71-4590-a49b-e7aad485e8db"
      },
      "execution_count": null,
      "outputs": [
        {
          "output_type": "execute_result",
          "data": {
            "text/plain": [
              "281"
            ]
          },
          "metadata": {},
          "execution_count": 30
        }
      ]
    },
    {
      "cell_type": "code",
      "source": [
        "task2(filename='/content/task2_puzzle.txt',savefile='/content/puzzle_output.csv')"
      ],
      "metadata": {
        "colab": {
          "base_uri": "https://localhost:8080/"
        },
        "id": "0t5mN4KYXPyW",
        "outputId": "74b3fd40-e453-4a1d-f2c0-7482e6647382"
      },
      "execution_count": null,
      "outputs": [
        {
          "output_type": "execute_result",
          "data": {
            "text/plain": [
              "54277"
            ]
          },
          "metadata": {},
          "execution_count": 31
        }
      ]
    },
    {
      "cell_type": "code",
      "source": [
        "str_rep = \"4vmzcrhtdvnm6zfive5pkbhcxj\"\n",
        "numbers={'one':1,'two':2,'three':3,'four':4}\n",
        "numbers['five'] = 5\n",
        "numbers['six'] = 6\n",
        "numbers['seven'] = 7\n",
        "numbers['eight'] = 8\n",
        "numbers['nine'] = 9\n",
        "str_list = []\n",
        "\n",
        "# str_dict={'start':'','end':''}\n",
        "# pos_dict ={'start':0,'end':0}\n",
        "\n",
        "str_dict,pos_dict=start_end_nums(str_rep)\n",
        "\n",
        "if str_dict=={'start': '', 'end': ''}:\n",
        "  str_list=[]\n",
        "  for char in str_rep:\n",
        "    if char.isdigit():\n",
        "      str_list.append(char)\n",
        "\n",
        "  # print(str_list)\n",
        "  if len(str_list)>1:\n",
        "    row_sum = int(str_list[0]+str_list[-1])\n",
        "  elif len(str_list)==1:\n",
        "    row_sum = int(str_list[0])\n",
        "  else:\n",
        "    row_sum=0\n",
        "else:\n",
        "  for pos,char in enumerate(str_rep):\n",
        "    if char.isdigit() and pos<pos_dict['start']:\n",
        "      pos_dict['start']=pos\n",
        "      str_dict['start']=char\n",
        "\n",
        "    if char.isdigit() and pos>pos_dict['end']:\n",
        "      pos_dict['end']=pos\n",
        "      str_dict['end']=char\n",
        "\n",
        "  # if str_dict['start']=='':\n",
        "  #   str_dict['start']=0\n",
        "  # if str_dict['end']=='':\n",
        "  #   str_dict['end']=0\n",
        "  # print(str)\n",
        "  # print(str_dict,pos_dict,len(str))\n",
        "  row_sum = str(str_dict['start'])+str(str_dict['end'])\n",
        "\n",
        "row_sum"
      ],
      "metadata": {
        "id": "xsXmLZCrDtMP"
      },
      "execution_count": null,
      "outputs": []
    },
    {
      "cell_type": "code",
      "source": [
        "str(3)"
      ],
      "metadata": {
        "id": "hDVypuppD0Nu"
      },
      "execution_count": null,
      "outputs": []
    },
    {
      "cell_type": "code",
      "source": [
        "str_rep = \"sixeight7five9ninesixfour\"\n",
        "\n",
        "\n",
        "\n",
        "str_dict,pos_dict=start_end_nums('sixeight7five9ninesixfour')\n",
        "str_dict,pos_dict"
      ],
      "metadata": {
        "id": "8sdTV_eCTBes"
      },
      "execution_count": null,
      "outputs": []
    },
    {
      "cell_type": "code",
      "source": [
        "\n"
      ],
      "metadata": {
        "id": "Pxk0h623aoeV"
      },
      "execution_count": null,
      "outputs": []
    },
    {
      "cell_type": "code",
      "source": [],
      "metadata": {
        "id": "n5bFKxFpeJ5t"
      },
      "execution_count": null,
      "outputs": []
    }
  ]
}