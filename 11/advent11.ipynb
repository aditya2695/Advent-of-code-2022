{
  "nbformat": 4,
  "nbformat_minor": 0,
  "metadata": {
    "colab": {
      "provenance": []
    },
    "kernelspec": {
      "name": "python3",
      "display_name": "Python 3"
    },
    "language_info": {
      "name": "python"
    }
  },
  "cells": [
    {
      "cell_type": "markdown",
      "source": [
        "Each monkey has several attributes:\n",
        "\n",
        "* Starting items lists your worry level for each item the monkey is currently holding in the order they will be inspected.\n",
        "Operation shows how your worry level changes as that monkey inspects an item.\n",
        "\n",
        "* (An operation like new = old * 5 means that your worry level after the monkey inspected the item is five times whatever your worry level was before inspection.)\n",
        "\n",
        "* Test shows how the monkey uses your worry level to decide where to throw an item next.\n",
        "\n",
        "* If true shows what happens with an item if the Test was true.\n",
        "\n",
        "* If false shows what happens with an item if the Test was false.\n",
        "\n",
        "* After each monkey inspects an item but before it tests your worry level, your relief that the monkey's inspection didn't damage the item causes your worry level to be divided by three and rounded down to the nearest integer.\n",
        "\n",
        "* The monkeys take turns inspecting and throwing items. On a single monkey's turn, it inspects and throws all of the items it is holding one at a time and in the order listed. Monkey 0 goes first, then monkey 1, and so on until each monkey has had one turn. The process of each monkey taking a single turn is called a round.\n",
        "\n",
        "* When a monkey throws an item to another monkey, the item goes on the end of the recipient monkey's list. A monkey that starts a round with no items could end up inspecting and throwing many items by the time its turn comes around. If a monkey is holding no items at the start of its turn, its turn ends."
      ],
      "metadata": {
        "id": "qs4CcK1C9PeL"
      }
    },
    {
      "cell_type": "markdown",
      "source": [
        "Monkey 0: <br>\n",
        "  Starting items: 79, 98<br>\n",
        "  Operation: new = old * 19<br>\n",
        "  Test: divisible by 23<br>\n",
        "&nbsp; &nbsp;  If true: throw to monkey 2 <br>\n",
        "&nbsp; &nbsp;  If false: throw to monkey 3 <br>\n",
        "\n",
        "Monkey 1:<br>\n",
        "  Starting items: 54, 65, 75, 74<br>\n",
        "  Operation: new = old + 6<br>\n",
        "  Test: divisible by 19<br>\n",
        "&nbsp; &nbsp;    If true: throw to monkey 2<br>\n",
        "    &nbsp; &nbsp;If false: throw to monkey 0<br>\n",
        "\n",
        "Monkey 2:<br>\n",
        "  Starting items: 79, 60, 97<br>\n",
        "  Operation: new = old * old<br>\n",
        "  Test: divisible by 13<br>\n",
        "    &nbsp; &nbsp;If true: throw to monkey 1<br>\n",
        "    &nbsp; &nbsp;If false: throw to monkey 3<br>\n",
        "\n",
        "Monkey 3:<br>\n",
        "  Starting items: 74<br>\n",
        "  Operation: new = old + 3<br>\n",
        "  Test: divisible by 17<br>\n",
        "    &nbsp; &nbsp;If true: throw to monkey 0<br>\n",
        "    &nbsp; &nbsp;If false: throw to monkey 1<br>"
      ],
      "metadata": {
        "id": "4lQn8wHH-Dmf"
      }
    },
    {
      "cell_type": "code",
      "source": [
        "def remove_empty_lines_and_delete(file='/content/test.txt'):\n",
        "    # Read the content of the file and filter out empty lines\n",
        "    with open(file, 'r') as f:\n",
        "        lines = [line.strip() for line in f if line.strip()]\n",
        "\n",
        "    # Write the non-empty lines back to the original file\n",
        "    with open(file, 'w') as f:\n",
        "        f.write('\\n'.join(lines))\n",
        "\n",
        "\n",
        "\n",
        "remove_empty_lines_and_delete()\n"
      ],
      "metadata": {
        "id": "0W6AFh4qC2DS"
      },
      "execution_count": 260,
      "outputs": []
    },
    {
      "cell_type": "code",
      "source": [
        "class Monkey:\n",
        "    def __init__(self,verbose=False, test=None, starting_items=None, operation=None, choices=None):\n",
        "\n",
        "        self.verbose=verbose\n",
        "        self.test = test\n",
        "        self.starting_items = starting_items or []\n",
        "        self.operation = operation or ()\n",
        "        self.choices = choices or []\n",
        "\n",
        "\n",
        "    def operate(self,pos):\n",
        "\n",
        "\n",
        "        val = self.operation[1] if self.operation[1] != 'old' else self.starting_items[pos]\n",
        "\n",
        "\n",
        "        if self.operation[0] == '+':\n",
        "\n",
        "          self.starting_items[pos]=self.starting_items[pos]+val\n",
        "        elif self.operation[0] == '-':\n",
        "          self.starting_items[pos]=self.starting_items[pos]-val\n",
        "        elif self.operation[0] == '*':\n",
        "          self.starting_items[pos]=int(self.starting_items[pos]*val)\n",
        "        elif self.operation[0] == '/':\n",
        "          self.starting_items[pos]=int(self.starting_items[pos]/val)\n",
        "\n",
        "        if self.verbose is True:\n",
        "          print(\"\\t\",\"\\t\",'Worry level is multiplied by',val,'to',self.starting_items[pos])\n",
        "        self.starting_items[pos] = int(self.starting_items[pos]%9699690)\n",
        "        if self.verbose is True:\n",
        "          print(\"\\t\",\"\\t\",'Monkey gets bored with item. Worry level is divided by 3 to ',self.starting_items[pos])\n",
        "\n",
        "    def test_method(self,pos):\n",
        "\n",
        "        if self.starting_items[pos]%self.test != 0:\n",
        "\n",
        "          if self.verbose is True:\n",
        "            print(\"\\t\",\"\\t\",'Current worry level is not divisible by',self.test)\n",
        "          return self.starting_items[pos],self.choices[1]\n",
        "\n",
        "\n",
        "        else:\n",
        "            #print(self.starting_items[pos]/self.test)\n",
        "            if self.verbose is True:\n",
        "              print(\"\\t\",\"\\t\",'Current worry level is divisible by',self.test)\n",
        "\n",
        "            return self.starting_items[pos],self.choices[0]\n",
        "\n",
        "\n"
      ],
      "metadata": {
        "id": "WHcSAQSeIUaO"
      },
      "execution_count": 261,
      "outputs": []
    },
    {
      "cell_type": "code",
      "source": [
        "\n",
        "\n",
        "def get_monkeys(filename='/content/test.txt'):\n",
        "\n",
        "    remove_empty_lines_and_delete(file=filename)\n",
        "    line_count = 0\n",
        "    monkey_count = 0\n",
        "\n",
        "    # Assuming you have the remove_empty_lines_and_delete function defined earlier\n",
        "    # remove_empty_lines_and_delete(file=file)\n",
        "\n",
        "    monkeys = []\n",
        "    new_monkey = False\n",
        "\n",
        "    with open(filename) as f:\n",
        "        lines = f.readlines()\n",
        "\n",
        "        while line_count < len(lines):\n",
        "            line = lines[line_count]\n",
        "\n",
        "            instruction = line.strip().split()\n",
        "\n",
        "\n",
        "\n",
        "            if instruction[0] == 'Monkey' and new_monkey is False:\n",
        "                # print('new',instruction[0])\n",
        "                new_monkey = True\n",
        "                monkey_count += 1\n",
        "                temp_monkey = Monkey(verbose=False)  # Set a default value for the test attribute\n",
        "\n",
        "            else:\n",
        "                # print('old',instruction[0])\n",
        "\n",
        "                if instruction[0] == 'Starting':\n",
        "                    #print(instruction[2:])\n",
        "                    items = [int(i.replace(\",\", \"\")) for i in instruction[2:]]\n",
        "                    # print('items:',items)\n",
        "                    temp_monkey.starting_items = items\n",
        "\n",
        "                elif 'Operation' in instruction[0]:\n",
        "\n",
        "                    val = int(instruction[-1]) if instruction[-1] != 'old' else 'old'\n",
        "                    operation = (instruction[-2], val)\n",
        "\n",
        "                    #print('operation:',operation)\n",
        "                    temp_monkey.operation = operation\n",
        "\n",
        "                elif 'Test' in instruction[0] :  # Corrected the condition and attribute name\n",
        "                    test = int(instruction[-1])\n",
        "                    # print('test:',test)\n",
        "                    temp_monkey.test = test\n",
        "\n",
        "                elif 'true' in instruction[1] :\n",
        "                    choice = int(instruction[-1])\n",
        "                    # print('choice:',choice)\n",
        "                    temp_monkey.choices.append(choice)\n",
        "\n",
        "                elif 'false' in instruction[1]:\n",
        "                    choice = int(instruction[-1])\n",
        "                    # print('choice:',choice)\n",
        "                    temp_monkey.choices.append(choice)\n",
        "                    monkeys.append(temp_monkey)\n",
        "                    # print(temp_monkey)\n",
        "                    new_monkey = False\n",
        "\n",
        "                else:\n",
        "                  print('escaped')\n",
        "\n",
        "            line_count += 1\n",
        "\n",
        "    return monkeys\n",
        "\n",
        "monkeys = get_monkeys(filename='/content/puzzle.txt')\n"
      ],
      "metadata": {
        "id": "BcSYdpxeAE75"
      },
      "execution_count": 262,
      "outputs": []
    },
    {
      "cell_type": "code",
      "source": [
        "monkey_activity = {'Monkey'+str(i):0 for i in range(len(monkeys))}\n",
        "monkey_activity"
      ],
      "metadata": {
        "colab": {
          "base_uri": "https://localhost:8080/"
        },
        "id": "UFlgJ7lBfb7B",
        "outputId": "190e3d7b-fddb-415d-d750-32798350759c"
      },
      "execution_count": 263,
      "outputs": [
        {
          "output_type": "execute_result",
          "data": {
            "text/plain": [
              "{'Monkey0': 0,\n",
              " 'Monkey1': 0,\n",
              " 'Monkey2': 0,\n",
              " 'Monkey3': 0,\n",
              " 'Monkey4': 0,\n",
              " 'Monkey5': 0,\n",
              " 'Monkey6': 0,\n",
              " 'Monkey7': 0}"
            ]
          },
          "metadata": {},
          "execution_count": 263
        }
      ]
    },
    {
      "cell_type": "code",
      "source": [
        "# Add a function to scale down worry levels if needed\n",
        "def scale_down_worry_levels(monkeys, scale_factor=0.5):\n",
        "    for monkey in monkeys:\n",
        "        monkey.starting_items = [int(item * scale_factor) for item in monkey.starting_items]\n"
      ],
      "metadata": {
        "id": "OfcVnByb-CYF"
      },
      "execution_count": 264,
      "outputs": []
    },
    {
      "cell_type": "code",
      "source": [
        "monkey_activity = {'Monkey'+str(i): 0 for i in range(len(monkeys))}\n",
        "\n",
        "def inspection(monkeys,rounds):\n",
        "  for round in range(1,rounds+1):\n",
        "      for m_count, monkey in enumerate(monkeys):\n",
        "          #print('Monkey',m_count,':')\n",
        "          remove_list=[]\n",
        "          for pos, item in enumerate(monkey.starting_items):\n",
        "              #print(\"\\t\",'Monkey inspects an item with a worry level of',item)\n",
        "              monkey_activity['Monkey'+str(m_count)] += 1\n",
        "              # print('old levels', monkey.starting_items)\n",
        "              monkey.operate(pos)\n",
        "              # print('Operation:', monkey.operation)\n",
        "              # print('new levels', monkey.starting_items)\n",
        "              # print('DIvisiblility:', monkey.test_method(pos))\n",
        "\n",
        "              worry_level, monkey_id = monkey.test_method(pos)\n",
        "              # print(worry_level, monkey_id)\n",
        "              remove_list.append(worry_level)\n",
        "              monkeys[monkey_id].starting_items.append(worry_level)\n",
        "              #print(\"\\t\",\"\\t\",'Item with worry level',worry_level,'is thrown to monkey',monkey_id,'.')\n",
        "\n",
        "          res = [i for i in monkey.starting_items if i not in remove_list]\n",
        "          monkey.starting_items = res\n",
        "      if round%1000==0:\n",
        "        print('Round',round)\n",
        "        print(monkey_activity)\n",
        "      # if round%20==0:\n",
        "      # scale_down_worry_levels(monkeys, scale_factor=0.12)\n",
        "      # for monkey in monkeys:\n",
        "      #   print(monkey.starting_items)\n",
        "      #print('\\n')\n",
        "      # if len(monkeys[monkey_id].starting_items) != 0:\n",
        "      #       monkey_activity['Monkey'+str(monkey_id)] += 1\n",
        "\n",
        "\n",
        "\n",
        "inspection(monkeys,rounds=10000)"
      ],
      "metadata": {
        "colab": {
          "base_uri": "https://localhost:8080/"
        },
        "id": "PK0EsiuPAr__",
        "outputId": "eb6d6786-f9eb-4f60-9677-8a12b17a284b"
      },
      "execution_count": 265,
      "outputs": [
        {
          "output_type": "stream",
          "name": "stdout",
          "text": [
            "Round 1000\n",
            "{'Monkey0': 8319, 'Monkey1': 5760, 'Monkey2': 4389, 'Monkey3': 11062, 'Monkey4': 12713, 'Monkey5': 2250, 'Monkey6': 10567, 'Monkey7': 11751}\n",
            "Round 2000\n",
            "{'Monkey0': 16617, 'Monkey1': 11604, 'Monkey2': 8788, 'Monkey3': 22087, 'Monkey4': 25410, 'Monkey5': 4424, 'Monkey6': 21172, 'Monkey7': 23528}\n",
            "Round 3000\n",
            "{'Monkey0': 24908, 'Monkey1': 17451, 'Monkey2': 13192, 'Monkey3': 33114, 'Monkey4': 38105, 'Monkey5': 6592, 'Monkey6': 31780, 'Monkey7': 35309}\n",
            "Round 4000\n",
            "{'Monkey0': 33213, 'Monkey1': 23294, 'Monkey2': 17590, 'Monkey3': 44141, 'Monkey4': 50800, 'Monkey5': 8760, 'Monkey6': 42391, 'Monkey7': 47083}\n",
            "Round 5000\n",
            "{'Monkey0': 41509, 'Monkey1': 29139, 'Monkey2': 21988, 'Monkey3': 55167, 'Monkey4': 63496, 'Monkey5': 10933, 'Monkey6': 52997, 'Monkey7': 58861}\n",
            "Round 6000\n",
            "{'Monkey0': 49808, 'Monkey1': 34986, 'Monkey2': 26381, 'Monkey3': 66193, 'Monkey4': 76193, 'Monkey5': 13106, 'Monkey6': 63599, 'Monkey7': 70645}\n",
            "Round 7000\n",
            "{'Monkey0': 58105, 'Monkey1': 40833, 'Monkey2': 30779, 'Monkey3': 77213, 'Monkey4': 88892, 'Monkey5': 15278, 'Monkey6': 74209, 'Monkey7': 82421}\n",
            "Round 8000\n",
            "{'Monkey0': 66398, 'Monkey1': 46678, 'Monkey2': 35184, 'Monkey3': 88239, 'Monkey4': 101586, 'Monkey5': 17446, 'Monkey6': 84822, 'Monkey7': 94197}\n",
            "Round 9000\n",
            "{'Monkey0': 74697, 'Monkey1': 52531, 'Monkey2': 39581, 'Monkey3': 99262, 'Monkey4': 114281, 'Monkey5': 19619, 'Monkey6': 95429, 'Monkey7': 105978}\n",
            "Round 10000\n",
            "{'Monkey0': 82999, 'Monkey1': 58377, 'Monkey2': 43976, 'Monkey3': 110288, 'Monkey4': 126976, 'Monkey5': 21790, 'Monkey6': 106038, 'Monkey7': 117756}\n"
          ]
        }
      ]
    },
    {
      "cell_type": "code",
      "source": [
        "238*247"
      ],
      "metadata": {
        "id": "hQ__GHuDMe5l",
        "colab": {
          "base_uri": "https://localhost:8080/"
        },
        "outputId": "98e512cf-53ec-4998-8014-6958b5271d67"
      },
      "execution_count": 266,
      "outputs": [
        {
          "output_type": "execute_result",
          "data": {
            "text/plain": [
              "58786"
            ]
          },
          "metadata": {},
          "execution_count": 266
        }
      ]
    },
    {
      "cell_type": "code",
      "source": [
        "\n",
        "sorted_monkey_activity = dict(sorted(monkey_activity.items(), key=lambda item: item[1], reverse=True))\n",
        "\n",
        "print(sorted_monkey_activity)"
      ],
      "metadata": {
        "colab": {
          "base_uri": "https://localhost:8080/"
        },
        "id": "DnPBjgZJ7C2l",
        "outputId": "f1adb66d-235e-40cf-d7ba-0f407dc7c0be"
      },
      "execution_count": 267,
      "outputs": [
        {
          "output_type": "stream",
          "name": "stdout",
          "text": [
            "{'Monkey4': 126976, 'Monkey7': 117756, 'Monkey3': 110288, 'Monkey6': 106038, 'Monkey0': 82999, 'Monkey1': 58377, 'Monkey2': 43976, 'Monkey5': 21790}\n"
          ]
        }
      ]
    },
    {
      "cell_type": "code",
      "source": [
        "126976*117756"
      ],
      "metadata": {
        "colab": {
          "base_uri": "https://localhost:8080/"
        },
        "id": "SksWLI1X_0FU",
        "outputId": "467d11de-9d09-432b-9bc7-3ad6c5e45a83"
      },
      "execution_count": 269,
      "outputs": [
        {
          "output_type": "execute_result",
          "data": {
            "text/plain": [
              "14952185856"
            ]
          },
          "metadata": {},
          "execution_count": 269
        }
      ]
    },
    {
      "cell_type": "code",
      "source": [],
      "metadata": {
        "id": "8xeaFXGo_-sV"
      },
      "execution_count": 268,
      "outputs": []
    }
  ]
}