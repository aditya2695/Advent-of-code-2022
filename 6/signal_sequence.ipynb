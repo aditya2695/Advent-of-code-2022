{
 "cells": [
  {
   "cell_type": "code",
   "execution_count": 176,
   "metadata": {},
   "outputs": [],
   "source": [
    "import numpy as np\n"
   ]
  },
  {
   "cell_type": "code",
   "execution_count": 177,
   "metadata": {},
   "outputs": [],
   "source": [
    "sample='bvwbjplbgvbhsrlpgdmjqwftvncz'"
   ]
  },
  {
   "cell_type": "code",
   "execution_count": 178,
   "metadata": {},
   "outputs": [
    {
     "data": {
      "text/plain": [
       "4096"
      ]
     },
     "execution_count": 178,
     "metadata": {},
     "output_type": "execute_result"
    }
   ],
   "source": [
    "input=\"\"\"mvwvrwvwbblffmvmhmllmzmqzzbhbnnvrnvnmvvqrqrccpsstvvshvvpvvpddzwwjddfzzgbbzcchrrtzzmfffzqqsjjbfbjfjwffhrhrgrfrsfrsffbwwphwhgwgmgnggzwzhwzzpggnccdbcbssgccqgcgcvgccwffrqfqtqmqppwphhlbblnnwhwfhwhmhzhmmzbmbbjjmcjcggwlgltldttpccjlccbjccvfcvvdbvdvndvvmbmcbmmhphpbhhgjgllmljlqlwlclzlccrvrdvdzvzzzbrbrnbblplrplpsstdtjddgjgjgwjwzwbzwwrhwwbzwbwpwssvgvnnwnvvjqqswwsccwctwtntdndffjzfzmfzmfzmfzzhjzhzssdsgsnggbbqdqlqbllmglgddqppjjtzttlflrrczcmzzsppvfpvffcfrccvvvhjvhvfhfbbwdwrwswqqftfbfcfdfnfpnfflbbcmcqqsqwqqccmwmvwvffvdvlvtvqttnllqslsnllzplldmmzczhzmzzhllpfpqpnnqwwwrzzdpzzhccfvcvclcnnrjrmjrjlrlflqqtpqqdgqghhwdwdttlztttwmmvfmftfptphhddswdsdpdvpvpcpjjnvjvqvhvqqqfgqqgwqgwghwwmmvmvfmvvnvsslcclzlslppztzfzbzllcgllcsllvgvqvtqtsstztwwgjgghnhnhdnnqgnntqqtccdmcmhmpphpmmmbpbptpnnnmnppwlpwwfpwfwmfwfssbspslsflljpppbsspwptpwttfbtfftltvlttdmttllmggfcgfccvwcvczvvgvsgswsrrwppgcpggpgnngfnndrrdjrdrfdfmmjmsmbmmwjjjfzfdfbdbbtgbbcsbccgbbrvvrqrwqwmmhrhhbcbdbvdvzdvdjvvnwntwwdfwwrhrmhhnghhncccfttmpmrrjhhqddrsrvvssmrrgvgdgmmfqqhttspswpwlplpjljcjmjmvmdvvhbvvtqvqccczwwtlllztlzzpnnqznzddqsqvsshrrmccnppgrrjcjpccrvcvnvcncllffvnnbsbhhrmhmzzzhrhchjccgjcjwwhddmfmhhmrrrbccqddmjdmjdjtdjjmttzstsctssvvgghgbbhmhzmmjqqqqjgjfjpffpmpzmzszfzgzcggpmpnnqjqffgpghhszzvlzzdgzggqmggqlllcwwtzwwcfwccpjpggtqgtttzffdpffjzfzddzppprnprpqqbppvjpjzppbzpbzppwzzcnndsdzszbssqwqggnhggnzggpcpnndssghsggmfmrffvddvwvssjmjrmrmnndwdwhdhwwfjfjwjmwwqssmdsmdmssqzzrgzzjttnqnfqfcccvvmsvsvffccdjdccgtgqqjwqqnbqqnhqhrqrmrgmrrzjzrznzllwrlrbbcppctptwtfttlntnltnlnzzhrzhrzrtzzvsvfvjffsbsnbbfpphtptjjmffqgqnggnqnsshffslflggtlggmpggnfgfbgbfbcbbtdbdjqwfggzsfmzflttgdfqchhtjfwlmdnsbvmqcrhsrtwtjlmnlwbvjvqdzswdthbjslqzgmtzfjfcrgbhrrjtzgljbqfrzzqszhddnmzpnbgnflghnflwdmjdhgpnvwvnltcngwggqdznrpdtwsrclwwlfzhnjtpqcgzjqjnhcwbhndwvgrczhzwfjrdvjztdbjshmhrrqctjwpcdnpnvrtggrmhzhdtlntjphcddplgfvvmjzcbbpjbqbjwmnwqgftbmchghwvrlptvnfbffvgtdbtnfzwdmdlgzjbrvffvbrfwgjzzpbpcdzhcjbhfwnmqqwvjvnpgdqdjsmwdmrgfqrwhhqqjpfmvlncfdjchrccwpbptccdchqwvbcqzlhbfgrdzgncbwrzqpfszrcwtmnvbztjlzjlrqqfrnplhnmdjljcpnqssthhmjqrrlwdvsjswdwtfstmbvwhbptjnphjmnllbwffppzmdpchbcwcmgqzfmdqvhcmrvtgtjwlzfpnjnjtfvdhtjlqsdjwrrnflnsqrtfsnbjfdllhqslltsjqzdfqthqjjgrtqjwmlqqlhvszqswmdcbnwqgshpvfjdtvsqjvcnrnvtpfsgqszhtmcdlsqjwmttcqsdlvssrgwhtmtqwmttptnmgzpwzzrbwtsrjhmjpblztgftppcwwrjppvwlvdhwwdlfcdvhwpvhqpwrqsczvlmtghrrvqbphljcmcrfmwltlmnzchzrlbgspdjwfbhrmnfhvjwlgtghcpbfgdvrmwbqbprfvwpzqzrgqbhjtztwhjcjtncmbgjphsgdfvjwjljlwzhsdldqtdvgtzpwtmrbnpvqrmfdwngzqtsdjjztslrwdnfwgbnsjblcjzvmgbqllmdvvvdcvplgbzmhcrpbbjbfzhjgfpmjtrpmgvshzvqhcbcjzfcsvqggjcllcnjlrwqfpzldswzjgzvqwvszhrntnvlcpdcfqhqrtmhbdjqpfblrsbrhdfdwfgbhsnnjpgjvfpssfmhdbdncfrqbzpbttrhfzqnrttltqbvmhglbdpwmdbmgwcdsdsflmcnphwvbbhgqpqmwbdsmqwhcdftdlcfnstlfnzzsjhqzlsdmhpvlcqvhhlpdtzlqzlvbbwhhdsqhntbtpjjvnjlrncfmvnqmzwpldgrbfcfgdtlmrfzcbqfhvhpmsrrlnqwfggwrjsmnpnqhvvcfsfspfrmhwmbpqfhprzsswrczttlczhcqvgqqsnbhhfszqbswgtcjgddhngtcvlwqqmqzntrcwgwjhmhlgclpgtmqnpgwwhnjfdvvjgmqjlzsmwztpsdzrjlshswzljlmdzfqmqbtgtzlsfwqvwrdchjvrdnwdbprfvdvczstvnzfzzfmzbwjhtflbmhlgmfzrdfrqwfbltwqlqrghlprppvlqwggvczdcnmrmblhcfmpzdmqppgwhbbrjlzsvmsfzlrdljftcrdfdgmvrccwszpjmvdnbmfdnsgmgzsdpbrlsqvsmcwwqlwtwbgfvwtsmpqlnhjchnzrpncgtcqgwqrmqmrwsbmdvqcpggpzcjgtrhvnbpprlwfnjlvrgrdjjvncjmmflrpczqnlbqczggssqfcjcrghqlsztpdjpbbfcdjzzdjbljlsczdmrgshdscvhnltrwchjcmjzmjbhldnqzwwpswsnsldcbdcdpdgpjgwrnfbcpjtvzlhvgggldcfqcwwppvltsvsmwzwdgmhnfggtgtwldmrglcvmstgmbgbjhwwhgdhfrbjlwfhjfppdmffblbbzrplhlhqlsrnsthvjtglqntzcncmvhqnlsvvrscrhlncgncjswfgcvgjlwsndzmsbhbdqsggdgrsfqtzwnjpsdlbsqjrrjwwlbptwqpfqwvpsrtrmstddzdbjjlwvfqcpfczpsnmcgbfpbwcpljdhrgsqftbnplccjphwsdbprqfqqfcvtcdznnhrbdqpccphvdgtspmzzdbnslnrvtfrtbhcfzfgmhrttmdpwftvccjbllhqgtmpgwvbdjgtvtfbfnnsfgzqjmrpbcmqhpfbstznbvgtbhnwbbnjfsthdgdrpfdtvrtmgbwzqqpnlltbshjvnhsmqhqwzgbsfqqccfznjtnnzdrgcvwnlffdgvvqzvwhwfswdmqlrsglntzsnwjzgrhhwzzshwsfmlmrbnmrqlptmjgmtqctrmddzghsgtrbbcsmhtcnrzwmvrjmrnmhbjmflrclvlbzwbgmtnmwqgfmbbnnrdvhqcflglvzbmjzjtvnmrbgghnccfrphjshsgtrhfmmghhpwgclfvzfbdccsfrlfwtsjjnhlndpwcjdtlllhcsvwrwsbppqwhfcvnsnrvthrsbgmgjhpmjdndmdqdgzfvbqfmgfjrnrjchstrjprfwfnjqblhjdgsstvtpcsvmpbhggnwzncpjdhrcllcghhprhwhfgsqpfzphrdlcbrccglsb\n",
    "\"\"\"\n",
    "len(input)"
   ]
  },
  {
   "cell_type": "code",
   "execution_count": 179,
   "metadata": {},
   "outputs": [
    {
     "data": {
      "text/plain": [
       "{'b', 'f', 'l', 'm', 'r', 'v', 'w'}"
      ]
     },
     "execution_count": 179,
     "metadata": {},
     "output_type": "execute_result"
    }
   ],
   "source": [
    "set(input[0:14])"
   ]
  },
  {
   "cell_type": "code",
   "execution_count": 180,
   "metadata": {},
   "outputs": [],
   "source": [
    "def find_unique_packet(inp):\n",
    "\n",
    "    for i in range(0,len(inp)-4):\n",
    "        window=inp[i:i+4]\n",
    "        if(len(set(window))<4):\n",
    "            continue\n",
    "        else:\n",
    "            return i+4\n",
    "def find_unique_messages(inp):\n",
    "\n",
    "    for i in range(0,len(inp)-14):\n",
    "        window=inp[i:i+14]\n",
    "        if(len(set(window))<14):\n",
    "            continue\n",
    "        else:\n",
    "            return i+14\n",
    "\n",
    "\n"
   ]
  },
  {
   "cell_type": "code",
   "execution_count": 181,
   "metadata": {},
   "outputs": [
    {
     "name": "stdout",
     "output_type": "stream",
     "text": [
      "5\n",
      "6\n",
      "10\n",
      "11\n"
     ]
    }
   ],
   "source": [
    "print(find_unique_packet(inp=sample))\n",
    "print(find_unique_packet(inp='nppdvjthqldpwncqszvftbrmjlhg'))\n",
    "print(find_unique_packet(inp='nznrnfrfntjfmvfwmzdfjlvtqnbhcprsg'))\n",
    "print(find_unique_packet(inp='zcfzfwzzqfrljwzlrfnpqdbhtmscgvjw'))\n",
    "\n"
   ]
  },
  {
   "cell_type": "code",
   "execution_count": 182,
   "metadata": {},
   "outputs": [
    {
     "data": {
      "text/plain": [
       "1578"
      ]
     },
     "execution_count": 182,
     "metadata": {},
     "output_type": "execute_result"
    }
   ],
   "source": [
    "find_unique_packet(inp=input)"
   ]
  },
  {
   "cell_type": "code",
   "execution_count": 183,
   "metadata": {},
   "outputs": [
    {
     "name": "stdout",
     "output_type": "stream",
     "text": [
      "19\n",
      "23\n",
      "23\n",
      "29\n",
      "26\n"
     ]
    }
   ],
   "source": [
    "print(find_unique_messages(inp='mjqjpqmgbljsphdztnvjfqwrcgsmlb'))\n",
    "print(find_unique_messages(inp='bvwbjplbgvbhsrlpgdmjqwftvncz'))\n",
    "print(find_unique_messages(inp='nppdvjthqldpwncqszvftbrmjlhg'))\n",
    "print(find_unique_messages(inp='nznrnfrfntjfmvfwmzdfjlvtqnbhcprsg'))\n",
    "print(find_unique_messages(inp='zcfzfwzzqfrljwzlrfnpqdbhtmscgvjw'))\n"
   ]
  },
  {
   "cell_type": "code",
   "execution_count": 184,
   "metadata": {},
   "outputs": [
    {
     "data": {
      "text/plain": [
       "2178"
      ]
     },
     "execution_count": 184,
     "metadata": {},
     "output_type": "execute_result"
    }
   ],
   "source": [
    "find_unique_messages(inp=input)"
   ]
  },
  {
   "cell_type": "code",
   "execution_count": 185,
   "metadata": {},
   "outputs": [],
   "source": [
    "def func(inp,N=4):\n",
    "    i=0\n",
    "\n",
    "    # iterating through each character\n",
    "    while(i<len(inp)-N):\n",
    "\n",
    "        # create a 14 char window\n",
    "        window=inp[i:i+N]\n",
    "        \n",
    "        keys=list(set(window))\n",
    "\n",
    "\n",
    "        freq = {keys[i]: 0 for i in range(len(keys))}\n",
    "        char_index = {keys[i]: [] for i in range(len(keys))}\n",
    "\n",
    "        # iterate thru window\n",
    "        end=i+N\n",
    "        print(window)\n",
    "        for ix,char in enumerate(window):\n",
    "            \n",
    "            freq[char]+=1\n",
    "            char_index[char].append(i+ix)\n",
    "            if freq[char]==2:\n",
    "                i= char_index[char][0]+1\n",
    "                break\n",
    "            else:\n",
    "                ix+=1\n",
    "                continue\n",
    "                \n",
    "\n",
    "        return end\n",
    "        \n",
    "        \n"
   ]
  },
  {
   "cell_type": "code",
   "execution_count": 186,
   "metadata": {},
   "outputs": [
    {
     "name": "stdout",
     "output_type": "stream",
     "text": [
      "mjqj\n",
      "4\n",
      "bvwb\n",
      "4\n",
      "nppd\n",
      "4\n",
      "nznr\n",
      "4\n",
      "zcfz\n",
      "4\n"
     ]
    }
   ],
   "source": [
    "print(func(inp='mjqjpqmgbljsphdztnvjfqwrcgsmlb'))\n",
    "print(func(inp='bvwbjplbgvbhsrlpgdmjqwftvncz'))\n",
    "print(func(inp='nppdvjthqldpwncqszvftbrmjlhg'))\n",
    "print(func(inp='nznrnfrfntjfmvfwmzdfjlvtqnbhcprsg'))\n",
    "print(func(inp='zcfzfwzzqfrljwzlrfnpqdbhtmscgvjw'))"
   ]
  },
  {
   "cell_type": "code",
   "execution_count": 187,
   "metadata": {},
   "outputs": [
    {
     "name": "stdout",
     "output_type": "stream",
     "text": [
      "1 0 1\n",
      "1 1 None\n",
      "2 0 None\n",
      "3 0 3\n",
      "3 1 None\n",
      "4 0 None\n"
     ]
    }
   ],
   "source": [
    "for i in range(1,5):\n",
    "    for j in range(3):\n",
    "        if (i+j)%2==0:\n",
    "            print(i,j,'None')\n",
    "            break\n",
    "        else:\n",
    "            print(i,j,i+j)"
   ]
  },
  {
   "cell_type": "markdown",
   "metadata": {},
   "source": [
    "## Sliding Window"
   ]
  },
  {
   "cell_type": "code",
   "execution_count": 188,
   "metadata": {},
   "outputs": [],
   "source": [
    "def longest_substring(str,N):\n",
    "\n",
    "    if(str==None or len(str)==0):\n",
    "        return 0\n",
    "    \n",
    "    l=0 #left\n",
    "    char_set=list()\n",
    "\n",
    "\n",
    "    \n",
    "    res=0\n",
    "    \n",
    "    for r in range(len(str)):\n",
    "        while str[r] in char_set:\n",
    "            #remove left character\n",
    "            char_set.remove(str[l])\n",
    "            l+=1\n",
    "        # add right character \n",
    "        char_set.append(str[r])\n",
    "        res=max(res,r-l+1)\n",
    "\n",
    "        if(res==N):\n",
    "            op=''.join(char_set)\n",
    "            \n",
    "            return str.index(op)+N\n",
    "\n",
    "    return -1\n",
    "\n",
    "        \n",
    "\n",
    "\n"
   ]
  },
  {
   "cell_type": "code",
   "execution_count": 189,
   "metadata": {},
   "outputs": [
    {
     "name": "stdout",
     "output_type": "stream",
     "text": [
      "5\n",
      "6\n",
      "10\n",
      "11\n"
     ]
    }
   ],
   "source": [
    "print(find_unique_packet(inp=sample))\n",
    "print(find_unique_packet(inp='nppdvjthqldpwncqszvftbrmjlhg'))\n",
    "print(find_unique_packet(inp='nznrnfrfntjfmvfwmzdfjlvtqnbhcprsg'))\n",
    "print(find_unique_packet(inp='zcfzfwzzqfrljwzlrfnpqdbhtmscgvjw'))"
   ]
  },
  {
   "cell_type": "code",
   "execution_count": 190,
   "metadata": {},
   "outputs": [
    {
     "name": "stdout",
     "output_type": "stream",
     "text": [
      "5\n",
      "6\n",
      "10\n",
      "11\n"
     ]
    }
   ],
   "source": [
    "str='mjqjpqmgbljsphdztnvjfqwrcgsmlb'\n",
    "longest_substring(str,4)\n",
    "print(longest_substring('bvwbjplbgvbhsrlpgdmjqwftvncz',4))\n",
    "print(longest_substring('nppdvjthqldpwncqszvftbrmjlhg',4))\n",
    "print(longest_substring('nznrnfrfntjfmvfwmzdfjlvtqnbhcprsg',4))\n",
    "print(longest_substring('zcfzfwzzqfrljwzlrfnpqdbhtmscgvjw',4))\n",
    "\n"
   ]
  },
  {
   "cell_type": "code",
   "execution_count": 191,
   "metadata": {},
   "outputs": [
    {
     "name": "stdout",
     "output_type": "stream",
     "text": [
      "19\n",
      "23\n",
      "23\n",
      "29\n",
      "26\n"
     ]
    }
   ],
   "source": [
    "print(longest_substring('mjqjpqmgbljsphdztnvjfqwrcgsmlb',14))\n",
    "print(longest_substring('bvwbjplbgvbhsrlpgdmjqwftvncz',14))\n",
    "print(longest_substring('nppdvjthqldpwncqszvftbrmjlhg',14))\n",
    "print(longest_substring('nznrnfrfntjfmvfwmzdfjlvtqnbhcprsg',14))\n",
    "print(longest_substring('zcfzfwzzqfrljwzlrfnpqdbhtmscgvjw',14))"
   ]
  },
  {
   "cell_type": "code",
   "execution_count": 192,
   "metadata": {},
   "outputs": [
    {
     "name": "stdout",
     "output_type": "stream",
     "text": [
      "19\n",
      "23\n",
      "23\n",
      "29\n",
      "26\n"
     ]
    }
   ],
   "source": [
    "print(find_unique_messages(inp='mjqjpqmgbljsphdztnvjfqwrcgsmlb'))\n",
    "print(find_unique_messages(inp='bvwbjplbgvbhsrlpgdmjqwftvncz'))\n",
    "print(find_unique_messages(inp='nppdvjthqldpwncqszvftbrmjlhg'))\n",
    "print(find_unique_messages(inp='nznrnfrfntjfmvfwmzdfjlvtqnbhcprsg'))\n",
    "print(find_unique_messages(inp='zcfzfwzzqfrljwzlrfnpqdbhtmscgvjw'))\n"
   ]
  },
  {
   "cell_type": "code",
   "execution_count": null,
   "metadata": {},
   "outputs": [],
   "source": []
  }
 ],
 "metadata": {
  "kernelspec": {
   "display_name": "Python 3.9.12 ('base')",
   "language": "python",
   "name": "python3"
  },
  "language_info": {
   "codemirror_mode": {
    "name": "ipython",
    "version": 3
   },
   "file_extension": ".py",
   "mimetype": "text/x-python",
   "name": "python",
   "nbconvert_exporter": "python",
   "pygments_lexer": "ipython3",
   "version": "3.9.12"
  },
  "orig_nbformat": 4,
  "vscode": {
   "interpreter": {
    "hash": "e42634819b8c191a5d07eaf23810ff32516dd8d3875f28ec3e488928fbd3c187"
   }
  }
 },
 "nbformat": 4,
 "nbformat_minor": 2
}
