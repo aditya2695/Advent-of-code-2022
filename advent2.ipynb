{
  "nbformat": 4,
  "nbformat_minor": 0,
  "metadata": {
    "colab": {
      "provenance": [],
      "authorship_tag": "ABX9TyPOF4cNzk+JPSmhnF95lLS8",
      "include_colab_link": true
    },
    "kernelspec": {
      "name": "python3",
      "display_name": "Python 3"
    },
    "language_info": {
      "name": "python"
    }
  },
  "cells": [
    {
      "cell_type": "markdown",
      "metadata": {
        "id": "view-in-github",
        "colab_type": "text"
      },
      "source": [
        "<a href=\"https://colab.research.google.com/github/aditya2695/Advent-of-code-2022/blob/main/advent2.ipynb\" target=\"_parent\"><img src=\"https://colab.research.google.com/assets/colab-badge.svg\" alt=\"Open In Colab\"/></a>"
      ]
    },
    {
      "cell_type": "code",
      "source": [
        "\n",
        "\n",
        "def round_analysis(bag,color_set):\n",
        "\n",
        "  for color_cube in color_set.split(','):\n",
        "\n",
        "    #print(color_cube)\n",
        "    round_count,color = int(color_cube.split()[0]),color_cube.split()[1]\n",
        "    #print(count,color)\n",
        "    if round_count>bag[color]:\n",
        "     # print(color,round_count)\n",
        "      return False\n",
        "\n",
        "  return True\n",
        "\n",
        "def game_analysis(bag,sets):\n",
        "  for color_set in sets:\n",
        "    round_status = round_analysis(bag,color_set)\n",
        "    if round_status is False:\n",
        "      return False\n",
        "    else:\n",
        "      continue\n",
        "  return True"
      ],
      "metadata": {
        "id": "8_oc79GnNKSs"
      },
      "execution_count": null,
      "outputs": []
    },
    {
      "cell_type": "code",
      "execution_count": null,
      "metadata": {
        "colab": {
          "base_uri": "https://localhost:8080/"
        },
        "id": "CjVD-ICOwtHX",
        "outputId": "c310fb38-c8ed-4a10-f61e-f9324dfb35c0"
      },
      "outputs": [
        {
          "output_type": "execute_result",
          "data": {
            "text/plain": [
              "8"
            ]
          },
          "metadata": {},
          "execution_count": 34
        }
      ],
      "source": [
        "def task1(filename='/content/test.txt'):\n",
        "\n",
        "\n",
        "    line_count = 0\n",
        "\n",
        "    # Assuming you have the remove_empty_lines_and_delete function defined earlier\n",
        "    # remove_empty_lines_and_delete(file=file)\n",
        "\n",
        "    id_sum=0\n",
        "\n",
        "\n",
        "    bag = {'red':12,'green':13,'blue':14}\n",
        "\n",
        "    with open(filename) as f:\n",
        "        lines = f.readlines()\n",
        "\n",
        "        while line_count < len(lines):\n",
        "            #print(line_count)\n",
        "            line = lines[line_count]\n",
        "            red_count,blue_count,green_count=0,0,0\n",
        "            str_rep = line.strip()\n",
        "\n",
        "            line_data = str_rep.split(':')\n",
        "            game_id=line_data[0].split()[1]\n",
        "            sets = line_data[1].split(';')\n",
        "\n",
        "            game_status = game_analysis(bag,sets)\n",
        "\n",
        "            if game_status != False:\n",
        "              #print(game_id)\n",
        "              id_sum=id_sum+int(game_id)\n",
        "\n",
        "\n",
        "            line_count+=1\n",
        "\n",
        "    return id_sum\n",
        "\n",
        "\n",
        "task1()"
      ]
    },
    {
      "cell_type": "code",
      "source": [
        "task1(filename='/content/puzzle.txt')"
      ],
      "metadata": {
        "id": "3u4PDLwaxgKR",
        "colab": {
          "base_uri": "https://localhost:8080/"
        },
        "outputId": "a6193e19-1c54-41b4-891c-b17ad543ea89"
      },
      "execution_count": null,
      "outputs": [
        {
          "output_type": "execute_result",
          "data": {
            "text/plain": [
              "2776"
            ]
          },
          "metadata": {},
          "execution_count": 35
        }
      ]
    },
    {
      "cell_type": "code",
      "source": [],
      "metadata": {
        "id": "atXo--RHBvuZ"
      },
      "execution_count": null,
      "outputs": []
    }
  ]
}